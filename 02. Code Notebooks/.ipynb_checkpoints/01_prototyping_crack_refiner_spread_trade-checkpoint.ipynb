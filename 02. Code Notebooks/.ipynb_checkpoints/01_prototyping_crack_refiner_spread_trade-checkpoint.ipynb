{
 "cells": [
  {
   "cell_type": "markdown",
   "id": "1b8c68ec",
   "metadata": {},
   "source": [
    "# Prototyping the Crack v. Refiner Spread Trade\n",
    "\n",
    "This notebook implements a quantitative trading strategy using futures data and refiner stock prices. It fetches historical futures and stock prices, constructs a crack spread, and calculates the spread between the crack spread and refiner stock price. The strategy then computes a rolling z-score to generate trading signals based on standard deviation thresholds. Finally, it evaluates the performance of the strategy using Pyfolio for comprehensive performance analysis."
   ]
  },
  {
   "cell_type": "markdown",
   "id": "48387b71-4058-4895-9c80-a4916b0f5f75",
   "metadata": {},
   "source": [
    "**Jupyter notebooks environment**\n",
    "\n",
    "- Jupyter notebooks allow creating and sharing documents that contain both code and rich text cells. If you are not familiar with Jupyter notebooks, read more [here](https://jupyter-notebook-beginner-guide.readthedocs.io/en/latest/what_is_jupyter.html).\n",
    "- Run each code cell to see its output **from top to bottom**. To run a cell, click within the cell and press **Shift/Command+Enter**, or click **Run** from the top of the page menu.\n",
    "- A `[*]` symbol next to the cell indicates the code is still running. A `[ # ]` symbol, where `#` is an integer, indicates it is finished.\n",
    "- Beware, **some code cells might take longer to run**, depending on the task, installing packages and libraries, training models, etc.\n",
    "\n",
    "Please work top to bottom of this notebook and don't skip sections as this could lead to error messages due to missing code."
   ]
  },
  {
   "cell_type": "markdown",
   "id": "b55979a0-b05b-4264-b69d-4e985096bf5c",
   "metadata": {},
   "source": [
    "# Introduction to the Trade\n",
    "The [crack spread](https://www.cmegroup.com/education/articles-and-reports/introduction-to-crack-spreads.html) is a trading strategy in the energy sector that captures the price differential between crude oil and its refined products, most commonly gasoline and heating oil.\n",
    "\n",
    "The 3:2:1 crack spread calculation starts with the spot price for two barrels of gasoline, added to the spot price for one barrel of heating oil, and then subtracts the spot price for three barrels of WTI crude oil.\n",
    "\n",
    "We use the spot month RBOB gasoline per-gallon price multiplied by 42 and the spot month NY heating oil per-gallon price multiplied by 42 to reach a price per barrel. WTI crude is already quoted in dollars per barrel. The resulting value is then divided by three to scale the calculation to per-crude-barrel price.\n",
    "\n",
    "Let's dive in.\n",
    "\n",
    "## Trading Crack Spread Against a Refiner Stock\n",
    "\n",
    "When trading the crack spread against a refiner stock, you are comparing the profitability of refining operations to the market's valuation of a specific refining company.\n",
    "\n",
    "Refiner stocks should theoretically benefit from a widening crack spread, as their margins improve when the price difference between crude and its products increases.\n",
    "\n",
    "## Economic Rationale\n",
    "\n",
    "The economic rationale behind the correlation between the crack spread and refiner stocks is straightforward:\n",
    "\n",
    "Refiners purchase crude oil and sell its refined products.\n",
    "\n",
    "When the spread between the two widens, the refiner's profit margin inherently expands. Consequently, refiner stocks should move in tandem with crack spreads as the market prices in the information. This doesn’t always happen; factors such as operational efficiency, regulatory changes, and broader market sentiment can cause divergence.\n",
    "\n",
    "That divergence is our opportunity.\n",
    "\n",
    "## Trade Strategy\n",
    "\n",
    "Suppose the crack spread widens substantially, but a refiner's stock hasn't reacted. In that case, you buy the refiner stock in anticipation of its price increase.\n",
    "\n",
    "We first calculate the crack spread as described above. Then, we create the spread, which measures the difference between this crack spread and the refiner’s price.\n",
    "\n",
    "The rolling z-score of this spread is calculated over our window, which normalizes the spread by its rolling mean and standard deviation. This is what we’ll use as a signal.\n",
    "\n",
    "Our strategy takes a long position in the refiner if the z-score crosses below -2.0 and closes the position if it crosses above 2.0.\n",
    "\n",
    "The idea is to do just enough to determine whether the strategy is worth pursuing.\n",
    "\n",
    "No commissions, no slippage, nothing fancy."
   ]
  },
  {
   "cell_type": "markdown",
   "id": "2d54fbed-cf8d-46a0-aa70-82ca2471d346",
   "metadata": {},
   "source": [
    "# Imports and set up"
   ]
  },
  {
   "cell_type": "markdown",
   "id": "6060175b-373e-4a9d-9e19-dc372b38fbd9",
   "metadata": {},
   "source": [
    "This code uses pip to upgrade yfinance and pyfolio-reloaded to their latest versions, ensuring you have bug fixes and new features. It then restarts the Jupyter kernel so the updates take effect immediately without manual intervention."
   ]
  },
  {
   "cell_type": "code",
   "execution_count": null,
   "id": "6e334006-5199-4de1-a187-f3e05add0edf",
   "metadata": {
    "scrolled": true
   },
   "outputs": [],
   "source": [
    "# Make sure yfinance is updated.\n",
    "# This will install the latest version and restart the kernel\n",
    "!pip install --upgrade yfinance pyfolio-reloaded --quiet\n",
    "\n",
    "# You will get a popup asking to restart the kernel\n",
    "import IPython\n",
    "IPython.Application.instance().kernel.do_shutdown(True)"
   ]
  },
  {
   "cell_type": "markdown",
   "id": "bc794a9a-2443-4439-869d-55c58a1306a2",
   "metadata": {},
   "source": [
    "Keeping these libraries up to date is critical in algorithmic trading because data quality (yfinance) and performance evaluation tools (PyFolio) are constantly evolving. Outdated versions may lead to incorrect data handling, missing functionality, or compatibility issues with other libraries. Automating updates and kernel restarts ensures a stable, reproducible research environment."
   ]
  },
  {
   "cell_type": "markdown",
   "id": "6c313576-43f9-436b-8343-b1fd9854db92",
   "metadata": {},
   "source": [
    "This code imports core libraries for quant research—pandas for data frames, NumPy for numerical arrays, yfinance for downloading market data, and PyFolio for performance analysis. It also suppresses non-critical warnings to keep notebook output clean."
   ]
  },
  {
   "cell_type": "code",
   "execution_count": null,
   "id": "3275c45a",
   "metadata": {},
   "outputs": [],
   "source": [
    "import warnings\n",
    "warnings.filterwarnings(\"ignore\")\n",
    "import pandas as pd\n",
    "import numpy as np\n",
    "import yfinance as yf\n",
    "import pyfolio as pf"
   ]
  },
  {
   "cell_type": "markdown",
   "id": "c2b4252f-da52-431f-81f6-7880f7bb17b5",
   "metadata": {},
   "source": [
    "These libraries form a minimal stack for building and evaluating strategies: fetch prices (yfinance), shape and compute features/returns (pandas/NumPy), and generate risk/return diagnostics and tear sheets (PyFolio). Centralizing on this stack accelerates prototyping and ensures access to standard metrics like Sharpe, drawdown, turnover, and factor exposures. Warning suppression is acceptable for workshops, but in production you should review and address warnings rather than hide them."
   ]
  },
  {
   "cell_type": "markdown",
   "id": "88c8003f",
   "metadata": {},
   "source": [
    "This line sets a variable called window to `22`, which is commonly used to define the lookback period for calculations like moving averages or rolling statistics. In trading, `22` often represents the approximate number of trading days in a month."
   ]
  },
  {
   "cell_type": "code",
   "execution_count": null,
   "id": "dfdbc2ab",
   "metadata": {},
   "outputs": [],
   "source": [
    "window = 22"
   ]
  },
  {
   "cell_type": "markdown",
   "id": "2e05acc7-27ce-4dbf-bf40-fb339913afb9",
   "metadata": {},
   "source": [
    "Defining a window length is critical for technical indicators and feature engineering in algorithmic trading strategies. The choice of window directly impacts signal sensitivity: shorter windows react faster but generate more noise, while longer windows smooth data but may lag. By parameterizing it, you can tune and optimize strategies systematically during backtesting."
   ]
  },
  {
   "cell_type": "markdown",
   "id": "a51837ae",
   "metadata": {},
   "source": [
    "This line defines a variable thresh with a value of 2, which usually serves as a cutoff or trigger point in calculations. For example, it might be used as a threshold for volatility, z-scores, or signal strength."
   ]
  },
  {
   "cell_type": "code",
   "execution_count": null,
   "id": "7fc159d2",
   "metadata": {},
   "outputs": [],
   "source": [
    "thresh = 2"
   ]
  },
  {
   "cell_type": "markdown",
   "id": "e741ec7d-1e0d-45af-88cd-52a8b2ec680f",
   "metadata": {},
   "source": [
    "Thresholds are central to rule-based trading strategies because they determine when to act versus when to filter noise. A well-chosen threshold reduces false signals and improves trade quality, while a poorly chosen one can lead to overtrading or missed opportunities. Making it a parameter allows for systematic testing and optimization during backtests."
   ]
  },
  {
   "cell_type": "markdown",
   "id": "00c0e271-7273-4d21-ace3-b1e80e76a96f",
   "metadata": {},
   "source": [
    "# Setting up the analysis"
   ]
  },
  {
   "cell_type": "markdown",
   "id": "6d052722",
   "metadata": {},
   "source": [
    "This code creates two date variables: `today` holds the current date in `YYYY-MM-DD` format, and `start_date` holds the date from two years ago, also formatted the same way. It uses `pd.Timestamp.today()` to get the current date and `pd.Timedelta` to subtract 730 days."
   ]
  },
  {
   "cell_type": "code",
   "execution_count": null,
   "id": "cbbbb98d",
   "metadata": {
    "lines_to_next_cell": 1
   },
   "outputs": [],
   "source": [
    "today = pd.Timestamp.today().strftime(\"%Y-%m-%d\")\n",
    "start_date = (\n",
    "    pd.Timestamp.today() \n",
    "    - pd.Timedelta(days=365*5)\n",
    ").strftime(\"%Y-%m-%d\")"
   ]
  },
  {
   "cell_type": "markdown",
   "id": "fa3ef4f1-6196-4bfb-a379-fa67047a84e4",
   "metadata": {},
   "source": [
    "Defining a start and end date is essential in algorithmic trading because most backtests and data pulls require explicit time ranges. Setting them programmatically ensures strategies always use up-to-date periods without manual input. This approach guarantees reproducibility while keeping your workflow dynamic and research-ready."
   ]
  },
  {
   "cell_type": "markdown",
   "id": "63e6cd85-3a53-4259-a7bb-0f65c1bcb52d",
   "metadata": {},
   "source": [
    "This code downloads daily closing prices from Yahoo Finance for Heating Oil (`HO=F`), Gasoline (`RB=F`), Crude Oil (`CL=F`), and Phillips 66 (`PSX`) between `start_date` and `today`. It extracts only the `.Close` column, producing a clean time series of market data.  "
   ]
  },
  {
   "cell_type": "code",
   "execution_count": null,
   "id": "320067aa",
   "metadata": {
    "lines_to_next_cell": 1
   },
   "outputs": [],
   "source": [
    "tickers = [\"HO=F\", \"RB=F\", \"CL=F\", \"PSX\"]\n",
    "data = yf.download(\n",
    "    tickers, \n",
    "    start=start_date, \n",
    "    end=today, \n",
    "    auto_adjust=False,\n",
    "    progress=False\n",
    ").Close"
   ]
  },
  {
   "cell_type": "markdown",
   "id": "159805a2-3585-4ee7-928c-5ee1936a6a7d",
   "metadata": {},
   "source": [
    "Reliable historical price data is the foundation of algorithmic trading. Clean time series allow you to generate features, backtest strategies, and evaluate risk-adjusted returns. Including multiple related tickers supports advanced strategies such as spreads, correlation trades, and cross-asset analysis."
   ]
  },
  {
   "cell_type": "markdown",
   "id": "6437d776",
   "metadata": {},
   "source": [
    "This code assigns the closing price series of each instrument—Heating Oil (`HO=F`), Gasoline (`RB=F`), Crude Oil (`CL=F`), and Phillips 66 (`PSX`)—to individual variables. Each variable now directly represents the historical time series for that specific asset."
   ]
  },
  {
   "cell_type": "code",
   "execution_count": null,
   "id": "5a2617a9-89a3-4989-8c25-02753935261c",
   "metadata": {},
   "outputs": [],
   "source": [
    "ho = data[\"HO=F\"]\n",
    "rb = data[\"RB=F\"]\n",
    "cl = data[\"CL=F\"]\n",
    "psx = data[\"PSX\"]"
   ]
  },
  {
   "cell_type": "markdown",
   "id": "40c627f8-be9a-4d57-841e-f306cdd82614",
   "metadata": {},
   "source": [
    "Organizing instruments into separate variables makes calculations clearer and reduces the chance of mistakes in multi-asset strategies. In algorithmic trading, this approach allows precise construction of spreads, pair trades, and cross-asset signals, all of which rely on handling individual assets explicitly."
   ]
  },
  {
   "cell_type": "markdown",
   "id": "cc7479d0",
   "metadata": {},
   "source": [
    "This code first converts Heating Oil and Gasoline futures prices into a per-barrel equivalent by multiplying each by 42, since one futures contract represents gallons and there are 42 gallons in a barrel. It then constructs the 3:2:1 crack spread, which models the profit margin of refining three barrels of crude oil into two barrels of gasoline and one barrel of heating oil, and normalizes it per barrel.  "
   ]
  },
  {
   "cell_type": "code",
   "execution_count": null,
   "id": "1c3a98b8",
   "metadata": {},
   "outputs": [],
   "source": [
    "# Compute price per barrel\n",
    "rb *= 42\n",
    "ho *= 42\n",
    "\n",
    "# Construct the crack spread\n",
    "data[\"crack_spread\"] = 2 * rb + ho - 3 * cl\n",
    "data[\"crack_spread\"] /= 3"
   ]
  },
  {
   "cell_type": "markdown",
   "id": "6f5d555d-6380-4b97-8653-5a48a9dc416f",
   "metadata": {},
   "source": [
    "The crack spread is a critical measure of refinery economics and a widely traded spread strategy in energy markets. By computing it directly, traders can analyze refining margins, identify relative value opportunities between crude oil and refined products, and design systematic trading strategies around these relationships. Normalizing per barrel ensures comparability and scalability across instruments and time periods."
   ]
  },
  {
   "cell_type": "markdown",
   "id": "b6d47d43",
   "metadata": {},
   "source": [
    "This code plots the time series of the computed crack spread stored in the `data` DataFrame. The result is a line chart showing how refining margins have moved over time.  "
   ]
  },
  {
   "cell_type": "code",
   "execution_count": null,
   "id": "312f777e",
   "metadata": {},
   "outputs": [],
   "source": [
    "data.crack_spread.plot()"
   ]
  },
  {
   "cell_type": "markdown",
   "id": "e4df66b9-e097-40ef-a184-6667e7977c70",
   "metadata": {},
   "source": [
    "Visualizing the crack spread is crucial because it highlights patterns, volatility, and long-term trends that may not be obvious from raw numbers. Charts like this help traders identify cycles, structural shifts, and potential trading opportunities. In algorithmic trading, visualization is often the first step before quantitative modeling and signal generation.  "
   ]
  },
  {
   "cell_type": "markdown",
   "id": "34dccbfd",
   "metadata": {},
   "source": [
    "This code creates a new column called `spread` in the `data` DataFrame by subtracting the Phillips 66 (`PSX`) stock price from the calculated crack spread. The result represents the relative performance of refining margins versus the equity value of a major refiner."
   ]
  },
  {
   "cell_type": "code",
   "execution_count": null,
   "id": "a955006b",
   "metadata": {},
   "outputs": [],
   "source": [
    "data[\"spread\"] = data.crack_spread - data.PSX"
   ]
  },
  {
   "cell_type": "markdown",
   "id": "df49ec19-042b-4b0b-be1a-de2584e8fd81",
   "metadata": {},
   "source": [
    "Constructing spreads like this is a common technique in algorithmic trading because it highlights relative value opportunities between related markets. In this case, the spread captures the relationship between physical refining margins and the stock price of a refining company, which can reveal mispricings, hedging opportunities, or potential trading signals. Such custom spreads form the foundation of many market-neutral and statistical arbitrage strategies.  "
   ]
  },
  {
   "cell_type": "markdown",
   "id": "e0a5cdbe",
   "metadata": {},
   "source": [
    "This code plots the newly created `spread` series from the `data` DataFrame. The chart shows how the difference between the crack spread and Phillips 66 stock price evolves over time. "
   ]
  },
  {
   "cell_type": "code",
   "execution_count": null,
   "id": "a6c82ea7",
   "metadata": {},
   "outputs": [],
   "source": [
    "data.spread.plot()"
   ]
  },
  {
   "cell_type": "markdown",
   "id": "10cbfb4d-04cf-42ec-9536-32b6a9e86fcc",
   "metadata": {},
   "source": [
    "Plotting spreads is important because it makes relative value relationships immediately visible. Traders can spot mean-reversion patterns, divergence signals, and volatility regimes that suggest entry and exit opportunities. Visual inspection often provides the first validation before statistical testing and strategy automation.  "
   ]
  },
  {
   "cell_type": "markdown",
   "id": "8d740f7e-ef51-4761-a620-f7b6db3775bc",
   "metadata": {},
   "source": [
    "# Prototype the performance"
   ]
  },
  {
   "cell_type": "markdown",
   "id": "e7ed4cc8",
   "metadata": {},
   "source": [
    "This code calculates the log returns of the `spread` series and stores them in a new column called `returns`. It divides each value of the spread by its previous value using `.shift(1)` and applies the natural logarithm to compute continuous returns.  "
   ]
  },
  {
   "cell_type": "code",
   "execution_count": null,
   "id": "fa72d6dd",
   "metadata": {},
   "outputs": [],
   "source": [
    "data[\"returns\"] = np.log(data.spread / data.spread.shift(1))"
   ]
  },
  {
   "cell_type": "markdown",
   "id": "ab00623e-573f-4917-a8bb-198943b52b36",
   "metadata": {},
   "source": [
    "Log returns are fundamental in algorithmic trading because they are time-additive, which makes them easier to analyze and aggregate across periods. They normalize percentage changes, handle compounding correctly, and are more statistically stable than raw returns. This makes them the preferred input for backtesting, risk modeling, and performance analysis.  "
   ]
  },
  {
   "cell_type": "markdown",
   "id": "4a34e4cd",
   "metadata": {},
   "source": [
    "This code calculates a rolling z-score for the `spread` series and stores it in a new column `z`. It subtracts the rolling mean of the spread over the chosen window from the current spread and divides by the rolling standard deviation over the same window."
   ]
  },
  {
   "cell_type": "code",
   "execution_count": null,
   "id": "5c614285",
   "metadata": {},
   "outputs": [],
   "source": [
    "data[\"z\"] = (\n",
    "  data.spread\n",
    "  - data.spread.rolling(window=window).mean()\n",
    ") / data.spread.rolling(window=window).std()"
   ]
  },
  {
   "cell_type": "markdown",
   "id": "98449a5b-dd83-43fc-b864-c45e3a737a68",
   "metadata": {},
   "source": [
    "Z-scores standardize the spread into units of standard deviation, making it easy to identify when the spread is unusually high or low relative to its recent history. In algorithmic trading, this is a classic mean-reversion signal: extreme positive or negative z-scores often indicate entry or exit points. Normalization through z-scores ensures signals are comparable across different assets and time periods.  "
   ]
  },
  {
   "cell_type": "markdown",
   "id": "710223db",
   "metadata": {},
   "source": [
    "This code creates a new column `position` in the `data` DataFrame, which holds the trading signal based on the z-score. It assigns `1` (long) when the z-score is below `-thresh`, `-1` (short) when the z-score is above `thresh`, and `0` (flat) otherwise."
   ]
  },
  {
   "cell_type": "code",
   "execution_count": null,
   "id": "feb72cfd",
   "metadata": {},
   "outputs": [],
   "source": [
    "data[\"position\"] = np.select(\n",
    "  [data.z < -thresh, data.z > thresh],\n",
    "  [1, -1],\n",
    "  default=0\n",
    ")"
   ]
  },
  {
   "cell_type": "markdown",
   "id": "55a03451-50d8-4ae9-a416-ea38beba7e6e",
   "metadata": {},
   "source": [
    "Encoding signals into discrete positions is the backbone of systematic trading. This ensures trades are executed only when the spread deviates meaningfully from its norm, enforcing discipline and reducing noise. The rule-based structure allows for straightforward backtesting, parameter tuning, and eventual automation in live markets.  "
   ]
  },
  {
   "cell_type": "markdown",
   "id": "aaf1ee6e",
   "metadata": {},
   "source": [
    "This code computes the strategy’s daily returns by multiplying the lagged trading position (`position.shift(1)`) with the spread’s log returns. The shift ensures that positions are entered at the close of the previous day, preventing look-ahead bias. "
   ]
  },
  {
   "cell_type": "code",
   "execution_count": null,
   "id": "e9f9201c",
   "metadata": {},
   "outputs": [],
   "source": [
    "strategy_returns = data.position.shift(1) * data.returns"
   ]
  },
  {
   "cell_type": "markdown",
   "id": "5b4ce2b0-e3c2-41b4-9af4-b7920af5bc1d",
   "metadata": {},
   "source": [
    "Calculating strategy returns is a core step in evaluating any algorithmic trading system. It transforms signals into measurable performance, enabling you to analyze profitability, volatility, and risk-adjusted metrics. This is the data you use for backtesting, optimization, and ultimately deciding whether a strategy is robust enough to trade live.  "
   ]
  },
  {
   "cell_type": "markdown",
   "id": "13453e86",
   "metadata": {},
   "source": [
    "# Generate a comprehensive performance report using Pyfolio"
   ]
  },
  {
   "cell_type": "markdown",
   "id": "b7a6c363-a4f0-4b70-9173-0a4a4bf72aef",
   "metadata": {},
   "source": [
    "[Pyfolio Reloaded](https://github.com/stefan-jansen/pyfolio-reloaded) is a Python library designed for evaluating the performance of trading strategies and investment portfolios.\n",
    "\n",
    "It provides a full suite of risk and return analytics, including Sharpe ratio, drawdowns, and exposure analysis. The library generates professional-quality tear sheets that combine charts and metrics into a standardized report. It integrates easily with pandas time series and supports both backtested and live trading results.\n",
    "\n",
    "Pyfolio Reloaded is widely used because it gives traders and quants a fast, consistent way to validate strategies and communicate results.  "
   ]
  },
  {
   "cell_type": "markdown",
   "id": "22e2ff73-2c7d-4662-bb31-0db554cb10cd",
   "metadata": {},
   "source": [
    "This code first ensures the index of `strategy_returns` is converted into a proper datetime format with `pd.to_datetime`, which is required for time series analysis. It then calls `pf.create_full_tear_sheet(strategy_returns)` to generate a comprehensive performance report using PyFolio, including return plots, drawdown charts, and key risk/return metrics.  "
   ]
  },
  {
   "cell_type": "code",
   "execution_count": null,
   "id": "c6983db6",
   "metadata": {},
   "outputs": [],
   "source": [
    "strategy_returns.index = pd.to_datetime(strategy_returns.index)\n",
    "pf.create_full_tear_sheet(strategy_returns)"
   ]
  },
  {
   "cell_type": "markdown",
   "id": "aabf4af8-aee9-45df-96a4-2e9d244ebb6f",
   "metadata": {},
   "source": [
    "**Resources**:\n",
    "\n",
    "* [Past issues of the PyQuant Newsletter](https://pyquantnews.com/the-pyquant-newsletter/past-issues/)\n",
    "* [Getting Started With Python for Quant Finance](https://www.pyquantnews.com/getting-started-with-python-for-quant-finance)"
   ]
  },
  {
   "cell_type": "markdown",
   "id": "a9ca85f0-c65b-4a0e-b6a0-ed87ad790876",
   "metadata": {},
   "source": [
    "Running a tear sheet is essential in algorithmic trading because it transforms raw strategy returns into actionable insights. It provides standardized diagnostics—such as Sharpe ratio, max drawdown, and exposure—that allow you to evaluate robustness. This step is the bridge between coding a strategy and assessing whether it is viable for live trading.  "
   ]
  },
  {
   "cell_type": "code",
   "execution_count": null,
   "id": "a7e433e8-a42f-4c50-a1f0-6a3cd9d4f668",
   "metadata": {},
   "outputs": [],
   "source": []
  },
  {
   "cell_type": "code",
   "execution_count": null,
   "id": "164e5ba5-743c-4735-a5ad-15a4c1880439",
   "metadata": {},
   "outputs": [],
   "source": []
  },
  {
   "cell_type": "code",
   "execution_count": null,
   "id": "ab21511c-e4ad-4a6b-8e1e-7adbb11be695",
   "metadata": {},
   "outputs": [],
   "source": []
  }
 ],
 "metadata": {
  "jupytext": {
   "cell_metadata_filter": "-all",
   "main_language": "python",
   "notebook_metadata_filter": "-all"
  },
  "kernelspec": {
   "display_name": "Python 3 (ipykernel)",
   "language": "python",
   "name": "python3"
  },
  "language_info": {
   "codemirror_mode": {
    "name": "ipython",
    "version": 3
   },
   "file_extension": ".py",
   "mimetype": "text/x-python",
   "name": "python",
   "nbconvert_exporter": "python",
   "pygments_lexer": "ipython3",
   "version": "3.11.13"
  }
 },
 "nbformat": 4,
 "nbformat_minor": 5
}
